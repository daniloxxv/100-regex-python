{
 "cells": [
  {
   "cell_type": "markdown",
   "metadata": {},
   "source": [
    "# 100 Regex Exercises in Python\n",
    "\n",
    "A hands-on regular expressions tutorial for Python students."
   ]
  },
  {
   "cell_type": "code",
   "execution_count": null,
   "metadata": {},
   "outputs": [],
   "source": [
    "import re\n",
    "poem = '''Once upon a midnight dreary, while I pondered, weak and weary,\n",
    "Over many a quaint and curious volume of forgotten lore—\n",
    "    While I nodded, nearly napping, suddenly there came a tapping,\n",
    "As of some one gently rapping, rapping at my chamber door.\n",
    "“’Tis some visitor,” I muttered, “tapping at my chamber door—\n",
    "            Only this and nothing more.\n",
    "Ah, distinctly I remember it was in the bleak December;\n",
    "And each separate dying ember wrought its ghost upon the floor.\n",
    "    Eagerly I wished the morrow;—vainly I had sought to borrow\n",
    "    From my books surcease of sorrow—sorrow for the lost Lenore—\n",
    "For the rare and radiant maiden whom the angels name Lenore—\n",
    "            Nameless here for evermore.\n",
    "'''"
   ]
  },
  {
   "cell_type": "markdown",
   "metadata": {},
   "source": [
    "### 1: Basic pattern matching\n",
    "\n",
    "Simple regular expressions will look just like any other Python string. Let's use the re.findall function to create a list with all occurrences of the word 'door'. Your regex should be a string preceded by the letter ```r```."
   ]
  },
  {
   "cell_type": "code",
   "execution_count": null,
   "metadata": {},
   "outputs": [],
   "source": [
    "re.findall(r'',poem)"
   ]
  },
  {
   "cell_type": "markdown",
   "metadata": {},
   "source": [
    "### 2: Basic pattern matching - beyond letters\n",
    "\n",
    "Characters such as commas and spaces can also be used in regular expressions. Let's use re.findall again to match the only occurrence of ```While I nodded, nearly napping```."
   ]
  },
  {
   "cell_type": "code",
   "execution_count": null,
   "metadata": {},
   "outputs": [],
   "source": [
    "re.findall(r'',poem)"
   ]
  },
  {
   "cell_type": "markdown",
   "metadata": {},
   "source": [
    "### 3: The re.IGNORECASE flag\n",
    "\n",
    "By default, Python regular expressions will treat uppercase and lowercase letters as different characters. You can use the ```re.IGNORECASE``` (or ```re.I```) flag as a third argument to ```re.findall``` if we want to change that behavior. Try searching for the word 'nameless' in the poem with the ```re.I``` modifier and then without it. Do you notice any differences?"
   ]
  },
  {
   "cell_type": "code",
   "execution_count": null,
   "metadata": {},
   "outputs": [],
   "source": [
    "re.findall(r'nameless',poem, re.I)"
   ]
  },
  {
   "cell_type": "markdown",
   "metadata": {},
   "source": [
    "### 4: Using the re.I flag\n",
    "\n",
    "Now try it yourself. Let's use re.findall to match all occurrences of the word 'and', with or without capital letters."
   ]
  },
  {
   "cell_type": "code",
   "execution_count": null,
   "metadata": {},
   "outputs": [],
   "source": []
  },
  {
   "cell_type": "markdown",
   "metadata": {},
   "source": [
    "### 5: Character sets [ ]\n",
    "\n",
    "So far, our regular expressions haven looked a lot like normal Python strings. Let's start exploring their power a little bit more. One of the most useful regex functionalities are the character sets. You can define them by including any number of characters inside square brackets. Your regular expression will then look for any of the characters inside the set. \n",
    "\n",
    "Let's look at an example. Complete the code below so that it will match all occurrences of the words \"morrow\" and \"sorrow\". We already included the character set for you."
   ]
  },
  {
   "cell_type": "code",
   "execution_count": null,
   "metadata": {},
   "outputs": [],
   "source": [
    "\n",
    "re.findall(r'[ms]',poem)"
   ]
  },
  {
   "cell_type": "markdown",
   "metadata": {},
   "source": [
    "### 6: Using character sets\n",
    "\n",
    "Now it's your turn. Let's use character sets to match all the occurrences of the words 'tapping', 'napping' and 'rapping'."
   ]
  },
  {
   "cell_type": "code",
   "execution_count": null,
   "metadata": {},
   "outputs": [],
   "source": []
  },
  {
   "cell_type": "markdown",
   "metadata": {},
   "source": [
    "### 7: Using character sets (2)\n",
    "\n",
    "Let's try something a little bit more challenging. How would you use character sets to match all vowels in our poem (case-insensitive)?"
   ]
  },
  {
   "cell_type": "code",
   "execution_count": null,
   "metadata": {},
   "outputs": [],
   "source": [
    "re.findall(r'',poem)"
   ]
  },
  {
   "cell_type": "markdown",
   "metadata": {},
   "source": [
    "### 8: Negating a character set\n",
    "\n",
    "Including the ^ modifier at the beginning of a character set will match everything that is NOT inside the square brackets. ```[^t]```, for example, will match all characters except for the letter 't'.\n",
    "\n",
    "```re.findall(r'[^b]',poem)``` would match all characters from our string, except for the letter b.\n",
    "\n",
    "Let's say we want to match all character from our string which are not vowels. Can you see how negating character sets would help you with that?"
   ]
  },
  {
   "cell_type": "code",
   "execution_count": null,
   "metadata": {},
   "outputs": [],
   "source": []
  },
  {
   "cell_type": "markdown",
   "metadata": {},
   "source": [
    "### 9: Using ranges in character sets\n",
    "\n",
    "Character sets can also be used to match a range of characters. ```[a-z]```, for example, will match all lowercase letters from a to z. You can also combine ranges in the same character set: ```[A-Za-z0-9]``` will match both uppercase and lowercase letters between a and z, as well as digits from 0 to 9.\n",
    "\n",
    "Let's use our knowledge of ranges in character sets to match all letters from a to m in our poem (both lowercase and uppercase)."
   ]
  },
  {
   "cell_type": "code",
   "execution_count": null,
   "metadata": {},
   "outputs": [],
   "source": [
    "re.findall(r'',poem)"
   ]
  },
  {
   "cell_type": "markdown",
   "metadata": {},
   "source": [
    "### 10: Using ranges in negative character sets\n",
    "\n",
    "You can use ranges in conjunction with the negation operator ```^``` in your character sets. ```[^0-9]``` will match all characters that are NOT numbers from 0 to 9. \n",
    "\n",
    "Use the code box below to write a regular expression that will match all characters in our poem that are NOT letters from a to z (lowercase)."
   ]
  },
  {
   "cell_type": "code",
   "execution_count": null,
   "metadata": {},
   "outputs": [],
   "source": [
    "re.findall(r'',poem)"
   ]
  },
  {
   "cell_type": "markdown",
   "metadata": {},
   "source": [
    "### 11: Quantifiers - ?\n",
    "\n",
    "Character sets have added a little bit of flexibility to our regular expressions, but up to now every character (or character set) in our regular expressions have been matching only a single character in our string. This is where quantifiers come to the rescue. \n",
    "\n",
    "The `?` quantifier is the first one we'll see here. We can use it to indicate that a character in our regular expression is optional: we want our string to match the regex regargless of whether the character appears or not. For example, if we we wanted to match both 'a' and 'at', here's how our regular expression would look like: \n",
    "\n",
    "```r'at?'```\n",
    "\n",
    "Now it's your turn. Let's use the `?` quantifier to create a regular expression that will match all occurrences of 'here' and 'there' in our poem."
   ]
  },
  {
   "cell_type": "code",
   "execution_count": null,
   "metadata": {},
   "outputs": [],
   "source": [
    "re.findall(r'',poem)"
   ]
  },
  {
   "cell_type": "markdown",
   "metadata": {},
   "source": [
    "### 12: Quantifiers - ? (2)\n",
    "\n",
    "The code below was written to try to match the hypertext protocol of all the urls in the list. However, it's not working properly. Can you fix the regular expression to make sure it will match both 'http' and 'https'?"
   ]
  },
  {
   "cell_type": "code",
   "execution_count": null,
   "metadata": {},
   "outputs": [],
   "source": [
    "urls = '''http://ironhack.com\n",
    "https://ironhack.com\n",
    "http://ironhack.gov\n",
    "http://ironhack.net\n",
    "https://ironhack.org\n",
    "'''\n",
    "\n",
    "re.findall(r'http',urls)"
   ]
  },
  {
   "cell_type": "markdown",
   "metadata": {},
   "source": [
    "### 13: Quantifiers - *\n",
    "\n",
    "The `*` quantifier behaves in a similar way to `?`, but a lot more powerful. Instead of matching just zero or one occurrences of a character, it will match **any number of occurrences** of the character, from 0 to infinity. ```r'10*'```, for example, will match all of the following numbers: 1,10,100,1000,10000... and so on.\n",
    "\n",
    "Using what we just learned, let's write a regular expression that will match all strings in the variable ```hello_hell```."
   ]
  },
  {
   "cell_type": "code",
   "execution_count": null,
   "metadata": {},
   "outputs": [],
   "source": [
    "hello_hell = '''\n",
    "hello\n",
    "helloo\n",
    "helloooo\n",
    "helloooooooooo\n",
    "hell hell hell\n",
    "'''\n",
    "\n",
    "re.findall(r'',hello_hell)"
   ]
  },
  {
   "cell_type": "markdown",
   "metadata": {},
   "source": [
    "### 14: Quantifiers - +\n",
    "\n",
    "The `+` quantifier is similar to `*`, but with a key difference: instead of matching any number of occurrences from 0 to infinity, it will require the quantified character to appear at least once. `r'10+'`, for example, will match 10,100,1000,10000 and so on... but not the number one if it appears alone.\n",
    "\n",
    "Let's go back to our `hello_hell` variable. How would you use the `+` quantifier so that your regular expression matches all variations of 'hello', but none of the occurrences of the word 'hell' ? "
   ]
  },
  {
   "cell_type": "code",
   "execution_count": null,
   "metadata": {},
   "outputs": [],
   "source": [
    "re.findall(r'',hello_hell)"
   ]
  },
  {
   "cell_type": "markdown",
   "metadata": {},
   "source": [
    "### 15: Quantifiers - playing with numbers (binary)\n",
    "\n",
    "In the next few exercises we will use our knowledge of character sets and quantifiers to match different types of numbers. We'll start with binary. Binary numbers consist of a series of 0s and 1s -- that's it, nothing else. With that in mind, how would you use character sets and quantifiers to match all of the binary numbers contained in the string below (and nothing else)?"
   ]
  },
  {
   "cell_type": "code",
   "execution_count": null,
   "metadata": {},
   "outputs": [],
   "source": [
    "is_it_binary = '''\n",
    "100010\n",
    "010101\n",
    "123456\n",
    "Hello, World\n",
    "121212\n",
    "101010\n",
    "010101\n",
    "'''\n",
    "\n",
    "re.findall(r'',is_it_binary)"
   ]
  },
  {
   "cell_type": "markdown",
   "metadata": {},
   "source": [
    "### 16: Quantifiers - playing with numbers (positive integers)\n",
    "\n",
    "Binary was easy. But what if we wanted to match any positive integer in the variable below? How would you change your code to do that?"
   ]
  },
  {
   "cell_type": "code",
   "execution_count": null,
   "metadata": {},
   "outputs": [],
   "source": [
    "is_it_a_number = '''\n",
    "123456\n",
    "1\n",
    "ffdgdv\n",
    "300000\n",
    "999999\n",
    "I'm a number, I swear!\n",
    "<(^_^<) ^(^_^)^ (>^_^)>\n",
    "0\n",
    "import pandas as pd... what? Wrong line?\n",
    "42\n",
    "'''\n",
    "\n",
    "re.findall(r'',is_it_a_number)"
   ]
  },
  {
   "cell_type": "markdown",
   "metadata": {},
   "source": [
    "### 17: Quantifiers - playing with numbers (any integer)\n",
    "\n",
    "So far, our code only matches positive numbers: if we try to use the same regular expression to match a negative number, it will ignore the `-` sign. Using your knowledge of quantifiers, how would you change your code to also match the sign of negative numbers? "
   ]
  },
  {
   "cell_type": "code",
   "execution_count": null,
   "metadata": {},
   "outputs": [],
   "source": [
    "any_number = '''\n",
    "-100\n",
    "ffdgdv\n",
    "-2\n",
    "989899\n",
    "-I'm a negative number! Look at my sign!\n",
    "^(^_^)> ~(^_^)~ <(^_^)^\n",
    "-1\n",
    "0\n",
    "1\n",
    "2\n",
    "...\n",
    "42\n",
    "'''\n",
    "re.findall(r'',any_number)"
   ]
  },
  {
   "cell_type": "markdown",
   "metadata": {},
   "source": [
    "### 18: Quantifiers - playing with numbers (hexadecimal)\n",
    "\n",
    "Hexadecimal numbers are formed by digits from 0 to 9 and letters from A to F (case insensitive). They are used for several purposes, including the representation of color codes in web pages. How would you write a regular expression to match all valid hexadecimal numbers in the string below?"
   ]
  },
  {
   "cell_type": "code",
   "execution_count": null,
   "metadata": {},
   "outputs": [],
   "source": [
    "is_it_hex = '''\n",
    "FFFFFF\n",
    "bfbfbf\n",
    "101010\n",
    "Wut?\n",
    "<(^_^)> <(~_^)> <(^_^)>\n",
    "123123\n",
    "zzzzzz\n",
    "a1b2c3\n",
    "wowowo\n",
    "'''\n",
    "re.findall(r'', is_it_hex)"
   ]
  },
  {
   "cell_type": "markdown",
   "metadata": {},
   "source": [
    "### 19: Quantifiers - playing with numbers (no leading zeros)\n",
    "\n",
    "Here's our final number challenge before we move on to our next topic. When dealing with integers, it's common practice to ignore leading zeros. `0000012`, for example, would become just `12`. `10001`, on the other hand, would still be `10001`, since those zeros make a difference in the number's value. \n",
    "\n",
    "Depending on how you approached the previous exercises, your regular expression would match the entire numeric string instead of just the significant part. Let's see if we can match all positive numbers in the string below while avoiding all leading zeros. (The number 0 itself will not be tested)."
   ]
  },
  {
   "cell_type": "code",
   "execution_count": null,
   "metadata": {},
   "outputs": [],
   "source": [
    "no_leading_zeros = '''\n",
    "000012\n",
    "negative ten billion\n",
    "90009\n",
    "10203040506\n",
    "0<(^_^)>0<(^_^)>0<(^_^)>0\n",
    "pizza and beer\n",
    "00002\n",
    "00000000000000000000000000000000000000000042\n",
    "'''\n",
    "re.findall(r'', no_leading_zeros)"
   ]
  },
  {
   "cell_type": "markdown",
   "metadata": {},
   "source": [
    "### 20 Quantifiers - {_}\n",
    "\n",
    "The last quantifier we'll see (for now) is the `{}`. It allows us to determine exactly how many consecutive times we want a character to appear in our regular expression. `r'z{4}'`, for example, would match the string `'zzzz'`, but not `'z'` or `'zzz'`. Let's get back to our `hello_hell` variable. Can you use `{}` to write a regular expression that will match only `helloooo`, our secret greeting, but none of the other substrings?"
   ]
  },
  {
   "cell_type": "code",
   "execution_count": null,
   "metadata": {},
   "outputs": [],
   "source": [
    "hello_hell = '''\n",
    "hello\n",
    "helloo\n",
    "hellooo\n",
    "helloooo\n",
    "hell hell hell\n",
    "'''\n",
    "re.findall(r'', hello_hell)"
   ]
  },
  {
   "cell_type": "markdown",
   "metadata": {},
   "source": [
    "### 21 Quantifiers - {_,_}\n",
    "\n",
    "You can also use `{}` to define a lower and upper limiter to the number of times you want the character to appear in your string. `r'z{3,5}'`, for example, would match only `'zzz'`,`'zzzz'` and `'zzzzz'`: `'z'` or `'zz'` would not be matched, and in `'zzzzzzz'` all characters after the fifth one would be ignored.\n",
    "\n",
    "In the string below, we want to match only `'Hello, darkness'`,`'Helloo, darkness'` and `'Hellooo, darkness'`. All other substrings should be ignored. How would you solve that problem using what we just learned?"
   ]
  },
  {
   "cell_type": "code",
   "execution_count": null,
   "metadata": {},
   "outputs": [],
   "source": [
    "hello_darkness = '''\n",
    "hell, darkness\n",
    "hello, darkness\n",
    "helloo, darkness\n",
    "hellooo, darkness\n",
    "helloooo, darkness\n",
    "helloooooo, darkness\n",
    "hellooooooooooooooooo\n",
    "darkness? darkness? darkneeeeesss?\n",
    "I'll call you later\n",
    "'''\n",
    "\n",
    "re.findall(r'', hello_darkness)"
   ]
  },
  {
   "cell_type": "markdown",
   "metadata": {},
   "source": []
  }
 ],
 "metadata": {
  "kernelspec": {
   "display_name": "Python 3",
   "language": "python",
   "name": "python3"
  },
  "language_info": {
   "codemirror_mode": {
    "name": "ipython",
    "version": 3
   },
   "file_extension": ".py",
   "mimetype": "text/x-python",
   "name": "python",
   "nbconvert_exporter": "python",
   "pygments_lexer": "ipython3",
   "version": "3.7.3"
  }
 },
 "nbformat": 4,
 "nbformat_minor": 2
}
